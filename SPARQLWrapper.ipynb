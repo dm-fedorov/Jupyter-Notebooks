{
 "cells": [
  {
   "cell_type": "markdown",
   "metadata": {},
   "source": [
    "[Учебник по языку программирования Python](http://dfedorov.spb.ru/python3/book.pdf) "
   ]
  },
  {
   "cell_type": "markdown",
   "metadata": {},
   "source": [
    "**SPARQL** (от англ. SPARQL Protocol and RDF Query Language) – язык запросов к данным, представленным по модели [RDF](https://ru.wikipedia.org/wiki/Resource_Description_Framework). \n",
    "\n",
    "[Официальное описание SPARQL](https://www.w3.org/TR/sparql11-overview/)\n",
    "\n",
    "[SPARQL in 11 minutes](https://www.youtube.com/watch?v=FvGndkpa4K0)\n",
    "\n",
    "[Сервисы, предоставляющие API для доступа к базам знаний](https://www.w3.org/wiki/SparqlEndpoints)\n",
    "\n",
    "[SPARQLWrapper](https://rdflib.github.io/sparqlwrapper/) – библиотека-обертка для работы с SPARQL на языке Python (на других языках: RDF-Query для Perl, SPARQL/Grammar для Ruby и ARQ для Java).\n",
    "\n",
    "[Документация для SPARQLWrapper](https://rdflib.github.io/sparqlwrapper/doc/latest/)"
   ]
  },
  {
   "cell_type": "markdown",
   "metadata": {},
   "source": [
    "Далее приведены примеры автоматизации запросов к базе знаний: https://dbpedia.org/sparql"
   ]
  },
  {
   "cell_type": "markdown",
   "metadata": {},
   "source": [
    "Следующий запрос возвращает ответ в формате [JSON](https://www.w3.org/TR/rdf-sparql-json-res/):\n",
    "Содержимое переменной results будет иметь вид:\n",
    "```javascript\n",
    "{ 'head':    {'vars': ['label'], 'link': []}, \n",
    "  'results': {'distinct': False, 'bindings': \n",
    "                                [{'label': {'value': 'Asturias', 'xml:lang': 'en', 'type': 'literal'}}, \n",
    "                                 {'label': {'value': 'منطقة أستورياس', 'xml:lang': 'ar', 'type': 'literal'}}, \n",
    "                                 {'label': {'value': 'Asturien', 'xml:lang': 'de', 'type': 'literal'}}, \n",
    "                                 {'label': {'value': 'Asturias', 'xml:lang': 'es', 'type': 'literal'}}, \n",
    "                                 {'label': {'value': 'Asturies', 'xml:lang': 'fr', 'type': 'literal'}}, \n",
    "                                 {'label': {'value': 'Asturie', 'xml:lang': 'it', 'type': 'literal'}}, \n",
    "                                 {'label': {'value': 'アストゥリアス州', 'xml:lang': 'ja', 'type': 'literal'}}, \n",
    "                                 {'label': {'value': 'Asturië (regio)', 'xml:lang': 'nl', 'type': 'literal'}}, \n",
    "                                 {'label': {'value': 'Asturia', 'xml:lang': 'pl', 'type': 'literal'}}, \n",
    "                                 {'label': {'value': 'Astúrias', 'xml:lang': 'pt', 'type': 'literal'}}, \n",
    "                                 {'label': {'value': 'Астурия', 'xml:lang': 'ru', 'type': 'literal'}}, \n",
    "                                 {'label': {'value': '阿斯图里亚斯', 'xml:lang': 'zh', 'type': 'literal'}}],  \n",
    "  'ordered': True}\n",
    "} \n",
    "```"
   ]
  },
  {
   "cell_type": "code",
   "execution_count": 1,
   "metadata": {
    "collapsed": false
   },
   "outputs": [
    {
     "name": "stdout",
     "output_type": "stream",
     "text": [
      "Asturias\n",
      "منطقة أستورياس\n",
      "Asturien\n",
      "Asturias\n",
      "Asturies\n",
      "Asturie\n",
      "アストゥリアス州\n",
      "Asturië (regio)\n",
      "Asturia\n",
      "Astúrias\n",
      "Астурия\n",
      "阿斯图里亚斯\n"
     ]
    }
   ],
   "source": [
    "# Пример с официального сайта: https://rdflib.github.io/sparqlwrapper/\n",
    "\n",
    "from SPARQLWrapper import SPARQLWrapper, JSON\n",
    "\n",
    "sparql = SPARQLWrapper(\"http://dbpedia.org/sparql\")\n",
    "queryString = \"\"\"\n",
    "    PREFIX rdfs: <http://www.w3.org/2000/01/rdf-schema#>\n",
    "    SELECT ?label\n",
    "    WHERE { <http://dbpedia.org/resource/Asturias> rdfs:label ?label }\n",
    "\"\"\"\n",
    "sparql.setQuery(queryString)\n",
    "sparql.setReturnFormat(JSON)\n",
    "results = sparql.query().convert()\n",
    "\n",
    "#print(results, \"\\n\")\n",
    "\n",
    "if (len(results[\"results\"][\"bindings\"]) == 0):\n",
    "    print (\"No results found.\")       \n",
    "else:\n",
    "    for result in results[\"results\"][\"bindings\"]:\n",
    "        print(result[\"label\"][\"value\"])    "
   ]
  },
  {
   "cell_type": "markdown",
   "metadata": {},
   "source": [
    "Результат возвращается в формате [JSON](https://www.w3.org/TR/rdf-sparql-json-res/):\n",
    "Формат ответа, т.е. содержимое переменной results:\n",
    "\n",
    "```javascript\n",
    "{'head': {'vars': ['author_name', 'title', 'pages'], 'link': []}, \n",
    " 'results': {'distinct': False, \n",
    "  'bindings': [\n",
    "   {'title': {'value': 'David Copperfield', 'xml:lang': 'en', 'type': 'literal'}, \n",
    "    'author_name': {'value': 'Charles Dickens', 'xml:lang': 'en', 'type': 'literal'}, \n",
    "    'pages': {'value': '624', 'datatype': 'http://www.w3.org/2001/XMLSchema#positiveInteger', 'type': 'typed-literal'}}, \n",
    "   {'title': {'value': 'Fifty Shades of Grey', 'xml:lang': 'en', 'type': 'literal'}, \n",
    "    'author_name': {'value': 'E. L. James', 'xml:lang': 'en', 'type': 'literal'}, \n",
    "    'pages': {'value': '514', 'datatype': 'http://www.w3.org/2001/XMLSchema#positiveInteger', 'type': 'typed-literal'}}, \n",
    "   {'title': {'value': 'Roma (novel)', 'xml:lang': 'en', 'type': 'literal'}, \n",
    "    'author_name': {'value': 'Steven Saylor', 'xml:lang': 'en', 'type': 'literal'}, \n",
    "    'pages': {'value': '592', 'datatype': 'http://www.w3.org/2001/XMLSchema#positiveInteger', 'type': 'typed-literal'}},\n",
    "   {'title': {'value': 'The Alexandria Quartet', 'xml:lang': 'en', 'type': 'literal'}, \n",
    "    'author_name': {'value': 'Lawrence Durrell', 'xml:lang': 'en', 'type': 'literal'}, \n",
    "    'pages': {'value': '884', 'datatype': 'http://www.w3.org/2001/XMLSchema#positiveInteger', 'type': 'typed-literal'}}, \n",
    "   {'title': {'value': 'Helter Skelter (book)', 'xml:lang': 'en', 'type': 'literal'}, \n",
    "    'author_name': {'value': 'Vincent Bugliosi', 'xml:lang': 'en', 'type': 'literal'}, \n",
    "    'pages': {'value': '502', 'datatype': 'http://www.w3.org/2001/XMLSchema#positiveInteger', 'type': 'typed-literal'}}, \n",
    "   {'title': {'value': 'Inferno (Brown novel)', 'xml:lang': 'en', 'type': 'literal'}, \n",
    "    'author_name': {'value': 'Dan Brown', 'xml:lang': 'en', 'type': 'literal'}, \n",
    "    'pages': {'value': '609', 'datatype': 'http://www.w3.org/2001/XMLSchema#positiveInteger', 'type': 'typed-literal'}}, \n",
    "   {'title': {'value': 'Terra Nostra (novel)', 'xml:lang': 'en', 'type': 'literal'}, \n",
    "    'author_name': {'value': 'Carlos Fuentes', 'xml:lang': 'en', 'type': 'literal'}, \n",
    "    'pages': {'value': '783', 'datatype': 'http://www.w3.org/2001/XMLSchema#positiveInteger', 'type': 'typed-literal'}}, \n",
    "   {'title': {'value': 'The Dark Is Rising Sequence', 'xml:lang': 'en', 'type': 'literal'}, \n",
    "    'author_name': {'value': 'Susan Cooper', 'xml:lang': 'en', 'type': 'literal'}, \n",
    "    'pages': {'value': '786', 'datatype': 'http://www.w3.org/2001/XMLSchema#positiveInteger', 'type': 'typed-literal'}}, \n",
    "   {'title': {'value': 'The Kindly Ones (Littell novel)', 'xml:lang': 'en', 'type': 'literal'}, \n",
    "    'author_name': {'value': 'Jonathan Littell', 'xml:lang': 'en', 'type': 'literal'}, \n",
    "    'pages': {'value': '902', 'datatype': 'http://www.w3.org/2001/XMLSchema#positiveInteger', 'type': 'typed-literal'}}, \n",
    "   {'title': {'value': 'The Kindly Ones (Littell novel)', 'xml:lang': 'en', 'type': 'literal'}, \n",
    "    'author_name': {'value': 'Jonathan Littell', 'xml:lang': 'en', 'type': 'literal'}, \n",
    "    'pages': {'value': '992', 'datatype': 'http://www.w3.org/2001/XMLSchema#positiveInteger', 'type': 'typed-literal'}}], 'ordered': True}}\n",
    "```"
   ]
  },
  {
   "cell_type": "code",
   "execution_count": 2,
   "metadata": {
    "collapsed": false
   },
   "outputs": [
    {
     "name": "stdout",
     "output_type": "stream",
     "text": [
      "Charles Dickens : David Copperfield : 624\n",
      "E. L. James : Fifty Shades of Grey : 514\n",
      "Steven Saylor : Roma (novel) : 592\n",
      "Lawrence Durrell : The Alexandria Quartet : 884\n",
      "Vincent Bugliosi : Helter Skelter (book) : 502\n",
      "Dan Brown : Inferno (Brown novel) : 609\n",
      "Carlos Fuentes : Terra Nostra (novel) : 783\n",
      "Susan Cooper : The Dark Is Rising Sequence : 786\n",
      "Jonathan Littell : The Kindly Ones (Littell novel) : 902\n",
      "Jonathan Littell : The Kindly Ones (Littell novel) : 992\n"
     ]
    }
   ],
   "source": [
    "from SPARQLWrapper import SPARQLWrapper, JSON\n",
    "\n",
    "sparql = SPARQLWrapper(\"http://dbpedia.org/sparql\")\n",
    "queryString = \"\"\"\n",
    "    PREFIX : <http://dbpedia.org/resource/> \n",
    "    PREFIX rdf: <http://www.w3.org/1999/02/22-rdf-syntax-ns#> \n",
    "    PREFIX rdfs: <http://www.w3.org/2000/01/rdf-schema#> \n",
    "    PREFIX dbo: <http://dbpedia.org/ontology/> \n",
    "    SELECT  ?author_name ?title ?pages     \n",
    "    WHERE { \n",
    "        ?author rdf:type dbo:Writer . \n",
    "        ?author rdfs:label ?author_name \n",
    "        FILTER (LANG(?author_name)=\"en\"). \n",
    "        ?author dbo:notableWork ?work . \n",
    "        ?work dbo:numberOfPages ?pages \n",
    "        FILTER (?pages > 500) . \n",
    "        ?work rdfs:label ?title . \n",
    "        FILTER (LANG(?title)=\"en\"). \n",
    "    } \n",
    "    LIMIT 10\n",
    "\"\"\"\n",
    "sparql.setQuery(queryString)\n",
    "sparql.setReturnFormat(JSON)\n",
    "results = sparql.query().convert()\n",
    "\n",
    "#print(results)\n",
    "\n",
    "# проверяем количество записей, которое вернул сервис:\n",
    "if (len(results[\"results\"][\"bindings\"]) == 0):\n",
    "    print (\"No results found.\")       \n",
    "else:\n",
    "    for result in results[\"results\"][\"bindings\"]:\n",
    "        print (result[\"author_name\"][\"value\"], result[\"title\"][\"value\"], result[\"pages\"][\"value\"], sep=\" : \")\n"
   ]
  },
  {
   "cell_type": "markdown",
   "metadata": {},
   "source": [
    "Следующий скрипт из книги [Learning SPARQL](http://www.learningsparql.com/) отправляет запрос к базе знаний [LinkedMDB](http://data.linkedmdb.org/) об актерах, которые хотя бы один раз снимались в фильмах Стивена Спилберга и Стенли Кубрика. \n",
    "\n",
    "Результат возвращается в формате [JSON](https://www.w3.org/TR/rdf-sparql-json-res/):\n",
    "\n",
    "```javascript\n",
    "{ 'results': {\n",
    "            'bindings': \n",
    "                    [\n",
    "                        {'actorName': {'type': 'literal', 'value': 'Wolf Kahler'}}, \n",
    "                        {'actorName': {'type': 'literal', 'value': 'Slim Pickens'}}, \n",
    "                        {'actorName': {'type': 'literal', 'value': 'Tom Cruise'}}, \n",
    "                        {'actorName': {'type': 'literal', 'value': 'Arliss Howard'}}, \n",
    "                        {'actorName': {'type': 'literal', 'value': 'Ben Johnson'}}, \n",
    "                        {'actorName': {'type': 'literal', 'value': 'Scatman Crothers'}}, \n",
    "                        {'actorName': {'type': 'literal', 'value': 'Philip Stone'}}\n",
    "                    ]\n",
    "            }, \n",
    "  'head': {'vars': ['actorName']}\n",
    "}\n",
    "```"
   ]
  },
  {
   "cell_type": "code",
   "execution_count": 3,
   "metadata": {
    "collapsed": false
   },
   "outputs": [
    {
     "name": "stdout",
     "output_type": "stream",
     "text": [
      "Wolf Kahler\n",
      "Slim Pickens\n",
      "Tom Cruise\n",
      "Arliss Howard\n",
      "Ben Johnson\n",
      "Scatman Crothers\n",
      "Philip Stone\n"
     ]
    }
   ],
   "source": [
    "from SPARQLWrapper import SPARQLWrapper, JSON\n",
    "# SPARQL endpoint\n",
    "sparql = SPARQLWrapper(\"http://data.linkedmdb.org/sparql\")\n",
    "queryString = \"\"\"\n",
    "PREFIX m: <http://data.linkedmdb.org/resource/movie/>\n",
    "SELECT DISTINCT ?actorName WHERE {\n",
    "?dir1 m:director_name \"Steven Spielberg\" .\n",
    "?dir2 m:director_name \"Stanley Kubrick\" .\n",
    "?dir1film m:director ?dir1 ;\n",
    "m:actor ?actor .\n",
    "?dir2film m:director ?dir2 ;\n",
    "m:actor ?actor .\n",
    "?actor m:actor_name ?actorName .\n",
    "}\n",
    "\"\"\"\n",
    "sparql.setQuery(queryString)\n",
    "# по умолчанию результат возвращается в XML формате: https://www.w3.org/TR/rdf-sparql-XMLres/\n",
    "# преобразуем в JSON: https://www.w3.org/TR/rdf-sparql-json-res/\n",
    "sparql.setReturnFormat(JSON)\n",
    "# вернется словарь (dict), основанный на JSON\n",
    "results = sparql.query().convert()\n",
    "\n",
    "# проверяем количество записей, которое вернул сервис:\n",
    "if (len(results[\"results\"][\"bindings\"]) == 0):\n",
    "    print (\"No results found.\")       \n",
    "else:\n",
    "    for result in results[\"results\"][\"bindings\"]:\n",
    "        print (result[\"actorName\"][\"value\"])\n",
    "         "
   ]
  },
  {
   "cell_type": "code",
   "execution_count": 4,
   "metadata": {
    "collapsed": false
   },
   "outputs": [
    {
     "name": "stdout",
     "output_type": "stream",
     "text": [
      "Wolf Kahler\n",
      "Slim Pickens\n",
      "Tom Cruise\n",
      "Arliss Howard\n",
      "Ben Johnson\n",
      "Scatman Crothers\n",
      "Philip Stone\n"
     ]
    }
   ],
   "source": [
    "from SPARQLWrapper import SPARQLWrapper, JSON\n",
    "\n",
    "# Имена режиссеров поместили в отдельные переменные\n",
    "director1 = \"Steven Spielberg\"\n",
    "director2 = \"Stanley Kubrick\"\n",
    "sparql = SPARQLWrapper(\"http://data.linkedmdb.org/sparql\")\n",
    "queryString = \"\"\"\n",
    "PREFIX m: <http://data.linkedmdb.org/resource/movie/>\n",
    "SELECT DISTINCT ?actorName WHERE {\n",
    "?dir1 m:director_name \"DIR1-NAME\".\n",
    "?dir2 m:director_name \"DIR2-NAME\".\n",
    "?dir1film m:director ?dir1 ;\n",
    "m:actor ?actor .\n",
    "?dir2film m:director ?dir2 ;\n",
    "m:actor ?actor .\n",
    "?actor m:actor_name ?actorName .\n",
    "}\n",
    "\"\"\"\n",
    "queryString = queryString.replace(\"DIR1-NAME\",director1)\n",
    "queryString = queryString.replace(\"DIR2-NAME\",director2)\n",
    "sparql.setQuery(queryString)\n",
    "sparql.setReturnFormat(JSON)\n",
    "results = sparql.query().convert()\n",
    "\n",
    "if (len(results[\"results\"][\"bindings\"]) == 0):\n",
    "    print (\"No results found.\")\n",
    "else:\n",
    "    for result in results[\"results\"][\"bindings\"]:\n",
    "        print (result[\"actorName\"][\"value\"])"
   ]
  },
  {
   "cell_type": "markdown",
   "metadata": {},
   "source": [
    "Добавим программе графический интерфейс на основе tkinter. Список виджетов tkinter представлен по [ссылке](http://effbot.org/tkinterbook/tkinter-index.htm).\n",
    "\n",
    "Сначала рассмотрим пример простой графической программы:"
   ]
  },
  {
   "cell_type": "code",
   "execution_count": 5,
   "metadata": {
    "collapsed": false
   },
   "outputs": [],
   "source": [
    "from tkinter import *\n",
    "\n",
    "master = Tk()\n",
    "\n",
    "var = StringVar()\n",
    "var2 = StringVar()\n",
    "\n",
    "var.set(\"one\") # initial value\n",
    "\n",
    "label = Label (master, text = \"Укажите режиссера:\")\n",
    "label.pack()\n",
    "\n",
    "# http://effbot.org/tkinterbook/optionmenu.htm\n",
    "option = OptionMenu(master, var, \"Steven Spielberg\", \"Stanley Kubrick\")\n",
    "option.pack()\n",
    "\n",
    "def ok():\n",
    "    var2.set(var.get())\n",
    "    \n",
    "button = Button(master, text=\"Готово!\", command=ok)\n",
    "button.pack()\n",
    "\n",
    "label = Label (master, textvariable=var2)\n",
    "label.pack()\n",
    "\n",
    "mainloop()"
   ]
  },
  {
   "cell_type": "markdown",
   "metadata": {},
   "source": [
    "В следующем примере подключаем возможности SPARQLWrapper:"
   ]
  },
  {
   "cell_type": "code",
   "execution_count": 6,
   "metadata": {
    "collapsed": false
   },
   "outputs": [],
   "source": [
    "from SPARQLWrapper import SPARQLWrapper, JSON\n",
    "from tkinter import *\n",
    "\n",
    "master = Tk()\n",
    "\n",
    "var = StringVar()\n",
    "var2 = StringVar()\n",
    "\n",
    "var.set(\"Укажите режиссера:\") # initial value\n",
    "\n",
    "option = OptionMenu(master, var, \"Steven Spielberg\", \"Stanley Kubrick\")\n",
    "option.pack()\n",
    "\n",
    "def ok():    \n",
    "    sparql = SPARQLWrapper(\"http://data.linkedmdb.org/sparql\")\n",
    "    queryString = \"\"\"\n",
    "    PREFIX m: <http://data.linkedmdb.org/resource/movie/>\n",
    "    SELECT DISTINCT ?actorName WHERE {\n",
    "    ?dir1 m:director_name \"DIR1-NAME\".\n",
    "    ?dir1film m:director ?dir1 ;\n",
    "    m:actor ?actor .\n",
    "    ?actor m:actor_name ?actorName .\n",
    "    }\n",
    "    \"\"\"\n",
    "    queryString = queryString.replace(\"DIR1-NAME\",var.get())\n",
    "    sparql.setQuery(queryString)\n",
    "    sparql.setReturnFormat(JSON)\n",
    "    results = sparql.query().convert()\n",
    "\n",
    "    if (len(results[\"results\"][\"bindings\"]) == 0):\n",
    "        var2.set (\"No results found.\")\n",
    "    else:\n",
    "        res = \"\"\n",
    "        for result in results[\"results\"][\"bindings\"]:            \n",
    "            res = res + result[\"actorName\"][\"value\"] + '\\n'                      \n",
    "        var2.set (res)\n",
    "    \n",
    "button = Button(master, text=\"Готово!\", command=ok)\n",
    "button.pack()\n",
    "\n",
    "# Получился длинный список актеров, поэтому желательно использовать:\n",
    "# scrollbar = Scrollbar(master)\n",
    "label = Label (master, textvariable=var2)\n",
    "label.pack()\n",
    "\n",
    "mainloop()"
   ]
  },
  {
   "cell_type": "markdown",
   "metadata": {},
   "source": [
    "Результат работы программы:\n",
    "<img src=\"http://dfedorov.spb.ru/python3/tkinter.jpg\" />"
   ]
  },
  {
   "cell_type": "markdown",
   "metadata": {},
   "source": [
    "Для осуществления запросов к собственному RDF-документу потребуется настроить локальный SPARQL-сервис. Например, на основе Fuseki. [Getting Started With Fuseki](https://www.youtube.com/watch?v=apNEpgW0pTM)\n",
    "\n",
    "[Архитектура Apache Jena](https://jena.apache.org/getting_started/)\n",
    "\n",
    "Потребуется версия Java 8. Запуск сервиса из командной строки:\n",
    "\n",
    "> c:\\apache-jena-fuseki-2.4.0>fuseki-server --update --mem /ds\n",
    "\n",
    "После запуска откройте в браузере: localhost:3030 \n",
    "\n",
    "[Пример book.ttl, на котором проверялась работа сервиса](https://github.com/apache/jena/blob/master/jena-fuseki1/Data/books.ttl)\n",
    "\n",
    "<img src=\"http://dfedorov.spb.ru/python3/jena.jpg\" width=\"400\" height=\"200\" />"
   ]
  },
  {
   "cell_type": "markdown",
   "metadata": {},
   "source": [
    "Далее представлен исходный текст программы для обращения к локальному SPARQL endpoint:"
   ]
  },
  {
   "cell_type": "code",
   "execution_count": 7,
   "metadata": {
    "collapsed": false
   },
   "outputs": [
    {
     "name": "stdout",
     "output_type": "stream",
     "text": [
      "Harry Potter and the Philosopher's Stone\n",
      "J.K. Rowling\n",
      "Harry Potter and the Chamber of Secrets\n",
      "b0\n",
      "J.K. Rowling\n",
      "b1\n",
      "Harry Potter and the Prisoner Of Azkaban\n",
      "b0\n",
      "Harry Potter and the Goblet of Fire\n",
      "Harry Potter and the Order of the Phoenix\n",
      "J.K. Rowling\n",
      "Harry Potter and the Half-Blood Prince\n",
      "J.K. Rowling\n",
      "Harry Potter and the Deathly Hallows\n",
      "J.K. Rowling\n",
      "Rowling\n",
      "Joanna\n"
     ]
    }
   ],
   "source": [
    "from SPARQLWrapper import SPARQLWrapper, JSON\n",
    "# Локальный SPARQL endpoint\n",
    "sparql = SPARQLWrapper(\"http://localhost:3030/book-pers/query\")\n",
    "queryString = \"\"\"\n",
    "SELECT ?subject ?predicate ?object\n",
    "WHERE {\n",
    "  ?subject ?predicate ?object\n",
    "}\n",
    "LIMIT 25\n",
    "\"\"\"\n",
    "\n",
    "sparql.setQuery(queryString)\n",
    "# по умолчанию результат возвращается в XML формате: https://www.w3.org/TR/rdf-sparql-XMLres/\n",
    "# преобразуем в JSON: https://www.w3.org/TR/rdf-sparql-json-res/\n",
    "sparql.setReturnFormat(JSON)\n",
    "# вернется словарь (dict), основанный на JSON\n",
    "results = sparql.query().convert()\n",
    "\n",
    "#print(results)\n",
    "\n",
    "# проверяем количество записей, которое вернул сервис:\n",
    "if (len(results[\"results\"][\"bindings\"]) == 0):\n",
    "    print (\"No results found.\")       \n",
    "else:\n",
    "    for result in results[\"results\"][\"bindings\"]:\n",
    "        print (result[\"object\"][\"value\"])\n",
    "         "
   ]
  },
  {
   "cell_type": "markdown",
   "metadata": {},
   "source": [
    "> Примечание: онтология для Fuseki загружается в формате RDF/XML (\"Сохранить как\" в Protege)."
   ]
  },
  {
   "cell_type": "markdown",
   "metadata": {},
   "source": [
    "Пример автоматизации запроса: \"Вы вегетарианец? Да.\""
   ]
  },
  {
   "cell_type": "code",
   "execution_count": 1,
   "metadata": {
    "collapsed": false
   },
   "outputs": [
    {
     "name": "stdout",
     "output_type": "stream",
     "text": [
      "http://www.pizza.com/ontologies/pizza.owl#MargheritaPizza\n",
      "http://www.pizza.com/ontologies/pizza.owl#MushroomHotPizza\n",
      "http://www.pizza.com/ontologies/pizza.owl#MushroomPizza\n",
      "http://www.pizza.com/ontologies/pizza.owl#SpicyVegetablePizza\n"
     ]
    }
   ],
   "source": [
    "from SPARQLWrapper import SPARQLWrapper, JSON\n",
    "# SPARQL endpoint\n",
    "sparql = SPARQLWrapper(\"http://localhost:3030/new-last-pizza/query\")\n",
    "queryString = \"\"\"\n",
    "PREFIX rdf: <http://www.w3.org/1999/02/22-rdf-syntax-ns#>\n",
    "PREFIX owl: <http://www.w3.org/2002/07/owl#>\n",
    "PREFIX rdfs: <http://www.w3.org/2000/01/rdf-schema#>\n",
    "PREFIX xsd: <http://www.w3.org/2001/XMLSchema#>\n",
    "PREFIX : <http://www.pizza.com/ontologies/pizza.owl#>\n",
    "\n",
    "SELECT ?Pizza \n",
    "WHERE {\n",
    "?Pizza rdfs:subClassOf :VegetarianPizza.}\n",
    "\n",
    "\"\"\"\n",
    "sparql.setQuery(queryString)\n",
    "# по умолчанию результат возвращается в XML формате: https://www.w3.org/TR/rdf-sparql-XMLres/\n",
    "# преобразуем в JSON: https://www.w3.org/TR/rdf-sparql-json-res/\n",
    "sparql.setReturnFormat(JSON)\n",
    "# вернется словарь (dict), основанный на JSON\n",
    "results = sparql.query().convert()\n",
    "\n",
    "#print(results)\n",
    "\n",
    "# проверяем количество записей, которое вернул сервис:\n",
    "if (len(results[\"results\"][\"bindings\"]) == 0):\n",
    "    print (\"No results found.\")       \n",
    "else:\n",
    "    for result in results[\"results\"][\"bindings\"]:\n",
    "        print (result[\"Pizza\"][\"value\"])"
   ]
  },
  {
   "cell_type": "markdown",
   "metadata": {},
   "source": [
    "Пример программы с графичесим интерфейсом:"
   ]
  },
  {
   "cell_type": "code",
   "execution_count": 2,
   "metadata": {
    "collapsed": true
   },
   "outputs": [],
   "source": [
    "from SPARQLWrapper import SPARQLWrapper, JSON\n",
    "from tkinter import *\n",
    "\n",
    "# возвращает SPARQL-запрос в зависимости от выбора пользователя (a - (не)с мясом, b - (не)острая, c - (не)традиционная)\n",
    "def queryResult (a, b, c):\n",
    "    prefix = '''\n",
    "            PREFIX rdf: <http://www.w3.org/1999/02/22-rdf-syntax-ns#>\n",
    "            PREFIX owl: <http://www.w3.org/2002/07/owl#>\n",
    "            PREFIX rdfs: <http://www.w3.org/2000/01/rdf-schema#>\n",
    "            PREFIX xsd: <http://www.w3.org/2001/XMLSchema#>\n",
    "            PREFIX : <http://www.pizza.com/ontologies/pizza.owl#>\n",
    "            '''\n",
    "    # любая без мяса\n",
    "    if a == \"Да\" and b == \"Не знаю\" and c == \"Не знаю\":\n",
    "        queryString = prefix + \"\"\"\n",
    "                    SELECT ?Pizza\n",
    "                    WHERE {\n",
    "                        ?Pizza rdfs:subClassOf :VegetarianPizza.\n",
    "                    }\n",
    "                    \"\"\"\n",
    "        return queryString\n",
    "    # любая с мясом\n",
    "    elif a == \"Нет\" and b == \"Не знаю\" and c == \"Не знаю\":\n",
    "        queryString = prefix + \"\"\"\n",
    "                    SELECT ?Pizza\n",
    "                    WHERE {\n",
    "                        ?Pizza rdfs:subClassOf :NamedPizza\n",
    "                        MINUS {?Pizza rdfs:subClassOf :VegetarianPizza.}\n",
    "                    }\n",
    "                    \"\"\"\n",
    "        return queryString\n",
    "    # любая острая без мяса\n",
    "    elif a == \"Да\" and b == \"Да\" and c == \"Не знаю\":\n",
    "        queryString = prefix + \"\"\"\n",
    "                    SELECT ?Pizza\n",
    "                    WHERE {\n",
    "                        ?Pizza rdfs:subClassOf :VegetarianPizza.\n",
    "                        ?Pizza rdfs:subClassOf :SpicyPizza.}\n",
    "                    \"\"\"\n",
    "        return queryString\n",
    "    # Предпочитает пиццу с мясом, неострую и традиционную\n",
    "    elif a == \"Нет\" and b == \"Нет\" and c == \"Да\":\n",
    "        queryString = prefix + \"\"\"\n",
    "                    SELECT ?Pizza\n",
    "                    WHERE {\n",
    "                        ?Pizza rdfs:subClassOf :ExoticPizza.\n",
    "                        Minus {?Pizza rdfs:subClassOf :VegetarianPizza.}\n",
    "                        Minus {?Pizza rdfs:subClassOf :SpicyPizza.}\n",
    "                    }\n",
    "                    \"\"\"\n",
    "        return queryString\n",
    "    # С мясом, неострая и нетрадиционная\n",
    "    elif a == \"Нет\" and b == \"Нет\" and c == \"Нет\":\n",
    "        queryString = prefix + \"\"\"\n",
    "                    SELECT ?Pizza\n",
    "                    WHERE {\n",
    "                        ?Pizza rdfs:subClassOf :NamedPizza.\n",
    "                        Minus {?Pizza rdfs:subClassOf :ExoticPizza}.\n",
    "                        Minus {?Pizza rdfs:subClassOf :VegetarianPizza.}\n",
    "                        Minus {?Pizza rdfs:subClassOf :SpicyPizza.}\n",
    "                    }\n",
    "                    \"\"\"\n",
    "        return queryString\n",
    "    return \"Неизвестный запрос\"\n",
    "\n",
    "master = Tk()\n",
    "\n",
    "var = StringVar()\n",
    "var1 = StringVar()\n",
    "var2 = StringVar()\n",
    "var3 = StringVar()\n",
    "\n",
    "label = Label(master, text=\"Для выбора подходящей пиццы необходимо ответить на вопросы:\")\n",
    "label.pack()\n",
    "\n",
    "var1.set(\"Не знаю\")\n",
    "var2.set(\"Не знаю\")\n",
    "var3.set(\"Не знаю\")\n",
    "\n",
    "label = Label(master, text=\"Вы вегетарианец?\")\n",
    "label.pack()\n",
    "option = OptionMenu(master, var1, \"Да\", \"Нет\", \"Не знаю\")\n",
    "option.pack()\n",
    "\n",
    "label = Label(master, text=\"Вы любите острое?\")\n",
    "label.pack()\n",
    "option = OptionMenu(master, var2, \"Да\", \"Нет\", \"Не знаю\")\n",
    "option.pack()\n",
    "\n",
    "label = Label(master, text=\"Предпочитаете традиционную пиццу?\")\n",
    "label.pack()\n",
    "option = OptionMenu(master, var3, \"Да\", \"Нет\", \"Не знаю\")\n",
    "option.pack()\n",
    "\n",
    "\n",
    "def ok():\n",
    "    sparql = SPARQLWrapper(\"http://localhost:3030/new-last-pizza/query\")\n",
    "    queryString = queryResult(var1.get(), var2.get(), var3.get())\n",
    "    if queryString != \"Неизвестный запрос\":\n",
    "        sparql.setQuery(queryString)\n",
    "        sparql.setReturnFormat(JSON)\n",
    "        results = sparql.query().convert()\n",
    "\n",
    "        if (len(results[\"results\"][\"bindings\"]) == 0):\n",
    "            var.set(\"No results found.\")\n",
    "        else:\n",
    "            res = \"\"\n",
    "            for result in results[\"results\"][\"bindings\"]:\n",
    "                # split('#')[1] позволяет вывести только имя пиццы (см. п.11.5 эл. учебника)\n",
    "                res = res + result[\"Pizza\"][\"value\"].split('#')[1] + '\\n'\n",
    "            var.set(res)\n",
    "    else:\n",
    "        var.set(\"Что-то пошло не так, повторите выбор :-(\")\n",
    "\n",
    "\n",
    "button = Button(master, text=\"Готово!\", command=ok)\n",
    "button.pack()\n",
    "\n",
    "label = Label(master, textvariable=var)\n",
    "label.pack()\n",
    "\n",
    "mainloop()"
   ]
  },
  {
   "cell_type": "markdown",
   "metadata": {},
   "source": [
    "Результат работы программы:\n",
    "<img src=\"http://dfedorov.spb.ru/python3/pizza_tkinter1.jpg\" />"
   ]
  }
 ],
 "metadata": {
  "kernelspec": {
   "display_name": "Python 3",
   "language": "python",
   "name": "python3"
  },
  "language_info": {
   "codemirror_mode": {
    "name": "ipython",
    "version": 3
   },
   "file_extension": ".py",
   "mimetype": "text/x-python",
   "name": "python",
   "nbconvert_exporter": "python",
   "pygments_lexer": "ipython3",
   "version": "3.5.2"
  }
 },
 "nbformat": 4,
 "nbformat_minor": 0
}
